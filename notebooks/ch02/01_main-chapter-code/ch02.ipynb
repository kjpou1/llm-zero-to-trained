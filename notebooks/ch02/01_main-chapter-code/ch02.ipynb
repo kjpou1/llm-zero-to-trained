{
 "cells": [
  {
   "cell_type": "code",
   "execution_count": 3,
   "id": "d3b001ec",
   "metadata": {},
   "outputs": [
    {
     "name": "stdout",
     "output_type": "stream",
     "text": [
      "The autoreload extension is already loaded. To reload it, use:\n",
      "  %reload_ext autoreload\n"
     ]
    }
   ],
   "source": [
    "# 🔄 Auto-reload modules when their source code changes\n",
    "%load_ext autoreload\n",
    "%autoreload 2\n",
    "\n",
    "# 📦 Set up src/ and utils/ paths (project root is detected via pyproject.toml)\n",
    "%run ../../bootstrap.py"
   ]
  },
  {
   "cell_type": "code",
   "execution_count": 4,
   "id": "e5f2b0ff",
   "metadata": {},
   "outputs": [
    {
     "name": "stdout",
     "output_type": "stream",
     "text": [
      "========================================\n",
      "🔍 PyTorch Environment Info\n",
      "----------------------------------------\n",
      "PyTorch version:     2.7.1\n",
      "Available device:    MPS (Apple Silicon)\n",
      "========================================\n",
      "==================================================\n",
      "📂 Configured Dataset Directories\n",
      "--------------------------------------------------\n",
      "Raw data dir:             /Users/kenneth/Public/projects/python/ai/llms/llm-zero-to-trained/datasets/raw\n",
      "Processed data dir:       /Users/kenneth/Public/projects/python/ai/llms/llm-zero-to-trained/datasets/processed\n",
      "Vocab dir:                /Users/kenneth/Public/projects/python/ai/llms/llm-zero-to-trained/datasets/vocab\n",
      "==================================================\n"
     ]
    }
   ],
   "source": [
    "import sys\n",
    "import os\n",
    "\n",
    "from print_torch_info import print_torch_info\n",
    "from config import print_config_info\n",
    "\n",
    "print_torch_info()\n",
    "print_config_info()"
   ]
  }
 ],
 "metadata": {
  "kernelspec": {
   "display_name": ".venv",
   "language": "python",
   "name": "python3"
  },
  "language_info": {
   "codemirror_mode": {
    "name": "ipython",
    "version": 3
   },
   "file_extension": ".py",
   "mimetype": "text/x-python",
   "name": "python",
   "nbconvert_exporter": "python",
   "pygments_lexer": "ipython3",
   "version": "3.12.4"
  }
 },
 "nbformat": 4,
 "nbformat_minor": 5
}
